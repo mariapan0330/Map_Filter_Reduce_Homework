{
 "cells": [
  {
   "cell_type": "markdown",
   "id": "dd5d6340",
   "metadata": {},
   "source": [
    "# Exercises <br>\n",
    "\n",
    "### Exercise #1 <br>\n",
    "<p>Filter out all of the empty strings from the list below</p>\n",
    "\n",
    "`Output: ['Argentina', 'San Diego', 'Boston', 'New York']`"
   ]
  },
  {
   "cell_type": "code",
   "execution_count": null,
   "id": "cb1708d3",
   "metadata": {},
   "outputs": [],
   "source": [
    "places = [\" \",\"Argentina\", \" \", \"San Diego\",\"\",\"  \",\"\",\"Boston\",\"New York\"]\n",
    "\n",
    "print(list(filter(lambda x: x if x.strip() else None, places)))"
   ]
  },
  {
   "cell_type": "markdown",
   "id": "f9a72d1f",
   "metadata": {},
   "source": [
    "### Exercise #2 <br>\n",
    "<p>Write an anonymous function that sorts this list by the last name...<br><b>Hint: Use the \".sort()\" method and access the key\"</b></p>\n",
    "\n",
    "`Output: ['Victor aNisimov', 'Gary A.J. Bernstein', 'Joel Carter', 'Andrew P. Garfield', 'David hassELHOFF']`"
   ]
  },
  {
   "cell_type": "code",
   "execution_count": null,
   "id": "29098dca",
   "metadata": {},
   "outputs": [],
   "source": [
    "authors = [\"Joel Carter\", \"Victor aNisimov\", \"Andrew P. Garfield\",\"David hassELHOFF\",\"Gary A.J. Bernstein\"]\n",
    "authors.sort(key=(lambda x: x.lower().split()[-1]))\n",
    "print(authors)"
   ]
  },
  {
   "cell_type": "markdown",
   "id": "f63fd0c3",
   "metadata": {},
   "source": [
    "### Exercise #3 <br>\n",
    "<p>Convert the list below from Celsius to Farhenheit, using the map function with a lambda...</p>\n",
    "\n",
    "`Output: [('Nashua', 89.6), ('Boston', 53.6), ('Los Angelos', 111.2), ('Miami', 84.2)]\n",
    "`"
   ]
  },
  {
   "cell_type": "code",
   "execution_count": null,
   "id": "8676f24e",
   "metadata": {},
   "outputs": [],
   "source": [
    "# F = (9/5)*C + 32\n",
    "places = [('Nashua',32),(\"Boston\",12),(\"Los Angelos\",44),(\"Miami\",29)]\n",
    "res = list(map(lambda c: (c[0],(9/5)*c[1] + 32), places))\n",
    "print(res)"
   ]
  },
  {
   "cell_type": "markdown",
   "id": "e48fbdc5",
   "metadata": {},
   "source": [
    "# Exercise #4 <br>\n",
    "<p>Write a recursion function to perform the fibonacci sequence up to the number passed in.</p>\n",
    "\n",
    "`Output for fib(5) => \n",
    "Iteration 0: 0\n",
    "Iteration 1: 1\n",
    "Iteration 2: 1\n",
    "Iteration 3: 2\n",
    "Iteration 4: 3\n",
    "Iteration 5: 5\n",
    "Iteration 6: 8`"
   ]
  },
  {
   "cell_type": "code",
   "execution_count": 17,
   "id": "581e4bb7",
   "metadata": {},
   "outputs": [
    {
     "name": "stdout",
     "output_type": "stream",
     "text": [
      "21\n",
      "2\n",
      "1\n"
     ]
    }
   ],
   "source": [
    "def fib(goal, x=0, y=1):\n",
    "    current = x + y\n",
    "    goal -= 1\n",
    "    if goal == 1:\n",
    "        return current\n",
    "    return fib(goal,y,current)\n",
    "\n",
    "print(fib(8))\n",
    "print(fib(3))\n",
    "print(fib(2))"
   ]
  },
  {
   "cell_type": "markdown",
   "id": "9b7264f3",
   "metadata": {},
   "source": [
    "### Exercise 5\n",
    "create a generator that takes a number arg and yields that number squared, \n",
    "then prints each number until 0 is reached<br>\n",
    "\n",
    "`(i.e. if num = 8, it will print 64, then 49, 36, 25, 16, 9, 4, 1, 0)`"
   ]
  },
  {
   "cell_type": "code",
   "execution_count": null,
   "id": "0b59b5fb",
   "metadata": {},
   "outputs": [],
   "source": [
    "def squares(num):\n",
    "    while num >= 0:\n",
    "        yield num**2\n",
    "        num -= 1\n",
    "\n",
    "print([x for x in squares(8)])"
   ]
  }
 ],
 "metadata": {
  "kernelspec": {
   "display_name": "Python 3 (ipykernel)",
   "language": "python",
   "name": "python3"
  },
  "language_info": {
   "codemirror_mode": {
    "name": "ipython",
    "version": 3
   },
   "file_extension": ".py",
   "mimetype": "text/x-python",
   "name": "python",
   "nbconvert_exporter": "python",
   "pygments_lexer": "ipython3",
   "version": "3.9.12"
  }
 },
 "nbformat": 4,
 "nbformat_minor": 5
}
